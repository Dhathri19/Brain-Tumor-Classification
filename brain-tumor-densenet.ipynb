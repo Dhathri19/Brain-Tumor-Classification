{
 "cells": [
  {
   "cell_type": "code",
   "execution_count": 1,
   "id": "9e139f2b",
   "metadata": {
    "_cell_guid": "b1076dfc-b9ad-4769-8c92-a6c4dae69d19",
    "_uuid": "8f2839f25d086af736a60e9eeb907d3b93b6e0e5",
    "execution": {
     "iopub.execute_input": "2022-07-21T04:16:51.545990Z",
     "iopub.status.busy": "2022-07-21T04:16:51.545584Z",
     "iopub.status.idle": "2022-07-21T04:17:02.539127Z",
     "shell.execute_reply": "2022-07-21T04:17:02.537869Z"
    },
    "papermill": {
     "duration": 11.002934,
     "end_time": "2022-07-21T04:17:02.542150",
     "exception": false,
     "start_time": "2022-07-21T04:16:51.539216",
     "status": "completed"
    },
    "tags": []
   },
   "outputs": [],
   "source": [
    "import numpy as np\n",
    "import pandas as pd\n",
    "import os\n",
    "\n",
    "import matplotlib.pyplot as plt\n",
    "import tensorflow as tf\n",
    "from tensorflow import keras\n",
    "from tensorflow.keras.utils import to_categorical\n",
    "from tensorflow.keras.preprocessing.image import load_img, img_to_array\n",
    "from tensorflow.python.keras.preprocessing.image import ImageDataGenerator\n",
    "from sklearn.metrics import classification_report, log_loss, accuracy_score\n",
    "from sklearn.model_selection import train_test_split"
   ]
  },
  {
   "cell_type": "code",
   "execution_count": 2,
   "id": "f8259745",
   "metadata": {
    "execution": {
     "iopub.execute_input": "2022-07-21T04:17:02.553486Z",
     "iopub.status.busy": "2022-07-21T04:17:02.552002Z",
     "iopub.status.idle": "2022-07-21T04:17:02.557736Z",
     "shell.execute_reply": "2022-07-21T04:17:02.556451Z"
    },
    "papermill": {
     "duration": 0.013733,
     "end_time": "2022-07-21T04:17:02.560190",
     "exception": false,
     "start_time": "2022-07-21T04:17:02.546457",
     "status": "completed"
    },
    "tags": []
   },
   "outputs": [],
   "source": [
    "train_path = '../input/brain-tumor-classification-mri/Training'\n",
    "test_path = '../input/brain-tumor-classification-mri/Testing'"
   ]
  },
  {
   "cell_type": "code",
   "execution_count": 3,
   "id": "b63c364f",
   "metadata": {
    "execution": {
     "iopub.execute_input": "2022-07-21T04:17:02.570458Z",
     "iopub.status.busy": "2022-07-21T04:17:02.570067Z",
     "iopub.status.idle": "2022-07-21T04:17:02.590095Z",
     "shell.execute_reply": "2022-07-21T04:17:02.588554Z"
    },
    "papermill": {
     "duration": 0.027915,
     "end_time": "2022-07-21T04:17:02.592546",
     "exception": false,
     "start_time": "2022-07-21T04:17:02.564631",
     "status": "completed"
    },
    "tags": []
   },
   "outputs": [
    {
     "name": "stdout",
     "output_type": "stream",
     "text": [
      "['no_tumor', 'pituitary_tumor', 'meningioma_tumor', 'glioma_tumor']\n"
     ]
    }
   ],
   "source": [
    "File=[]\n",
    "for f in os.listdir(train_path):\n",
    "    File += [f]\n",
    "\n",
    "'''  total number of classes '''\n",
    "print(File)"
   ]
  },
  {
   "cell_type": "code",
   "execution_count": 4,
   "id": "09c64951",
   "metadata": {
    "execution": {
     "iopub.execute_input": "2022-07-21T04:17:02.603078Z",
     "iopub.status.busy": "2022-07-21T04:17:02.602519Z",
     "iopub.status.idle": "2022-07-21T04:17:30.820710Z",
     "shell.execute_reply": "2022-07-21T04:17:30.819650Z"
    },
    "papermill": {
     "duration": 28.226439,
     "end_time": "2022-07-21T04:17:30.823280",
     "exception": false,
     "start_time": "2022-07-21T04:17:02.596841",
     "status": "completed"
    },
    "tags": []
   },
   "outputs": [],
   "source": [
    "train_data = []\n",
    "\n",
    "''' label encoding '''\n",
    "mapping={'no_tumor':0, 'pituitary_tumor':1, 'meningioma_tumor':2, 'glioma_tumor':3}\n",
    "\n",
    "count=0\n",
    "\n",
    "for f in os.listdir(train_path):\n",
    "    ''' joining path '''\n",
    "    path = os.path.join(train_path, f)\n",
    "    for im in os.listdir(path):\n",
    "        ''' loading an image '''\n",
    "        img = load_img(os.path.join(path, im), grayscale=False, color_mode='rgb', target_size=(150,150))\n",
    "        ''' converting an image to array '''\n",
    "        img = img_to_array(img)\n",
    "        ''' scaling  '''\n",
    "        img = img / 255.0\n",
    "        ''' appending image to train_data '''\n",
    "        train_data.append([img, count])     \n",
    "    count=count+1"
   ]
  },
  {
   "cell_type": "code",
   "execution_count": 5,
   "id": "3ca2aaa1",
   "metadata": {
    "execution": {
     "iopub.execute_input": "2022-07-21T04:17:30.833459Z",
     "iopub.status.busy": "2022-07-21T04:17:30.833099Z",
     "iopub.status.idle": "2022-07-21T04:17:34.409906Z",
     "shell.execute_reply": "2022-07-21T04:17:34.408767Z"
    },
    "papermill": {
     "duration": 3.584738,
     "end_time": "2022-07-21T04:17:34.412607",
     "exception": false,
     "start_time": "2022-07-21T04:17:30.827869",
     "status": "completed"
    },
    "tags": []
   },
   "outputs": [],
   "source": [
    "test_data = []\n",
    "\n",
    "''' label encoding '''\n",
    "mapping={'no_tumor':0, 'pituitary_tumor':1, 'meningioma_tumor':2, 'glioma_tumor':3}\n",
    "count=0\n",
    "\n",
    "for f in os.listdir(test_path):\n",
    "    ''' joining path '''\n",
    "    path=os.path.join(test_path, f)\n",
    "    for im in os.listdir(path):\n",
    "        ''' loading an image '''\n",
    "        img = load_img(os.path.join(path, im), grayscale=False, color_mode='rgb', target_size=(150,150))\n",
    "        ''' converting an image to array '''\n",
    "        img = img_to_array(img)\n",
    "        ''' scaling '''\n",
    "        img = img/255.0\n",
    "        ''' appending an image to test_data'''\n",
    "        test_data.append([img, count])         \n",
    "    count=count+1"
   ]
  },
  {
   "cell_type": "code",
   "execution_count": 6,
   "id": "daa65344",
   "metadata": {
    "execution": {
     "iopub.execute_input": "2022-07-21T04:17:34.423365Z",
     "iopub.status.busy": "2022-07-21T04:17:34.422589Z",
     "iopub.status.idle": "2022-07-21T04:17:34.428263Z",
     "shell.execute_reply": "2022-07-21T04:17:34.427490Z"
    },
    "papermill": {
     "duration": 0.013266,
     "end_time": "2022-07-21T04:17:34.430275",
     "exception": false,
     "start_time": "2022-07-21T04:17:34.417009",
     "status": "completed"
    },
    "tags": []
   },
   "outputs": [],
   "source": [
    "train_images, train_labels = zip(*train_data)\n",
    "test_images, test_labels = zip(*test_data)"
   ]
  },
  {
   "cell_type": "code",
   "execution_count": 7,
   "id": "54a4274e",
   "metadata": {
    "execution": {
     "iopub.execute_input": "2022-07-21T04:17:34.440734Z",
     "iopub.status.busy": "2022-07-21T04:17:34.439703Z",
     "iopub.status.idle": "2022-07-21T04:17:34.770576Z",
     "shell.execute_reply": "2022-07-21T04:17:34.769265Z"
    },
    "papermill": {
     "duration": 0.339232,
     "end_time": "2022-07-21T04:17:34.773782",
     "exception": false,
     "start_time": "2022-07-21T04:17:34.434550",
     "status": "completed"
    },
    "tags": []
   },
   "outputs": [
    {
     "name": "stdout",
     "output_type": "stream",
     "text": [
      "(2870, 150, 150, 3)\n",
      "(2870, 4)\n"
     ]
    }
   ],
   "source": [
    "''' converting labels into to_categorical '''\n",
    "train_labels = to_categorical(train_labels)\n",
    "\n",
    "''' coverting train_images into numpy array '''\n",
    "train_images = np.array(train_images)\n",
    "\n",
    "''' converting train_labesl into numpy array '''\n",
    "train_labels = np.array(train_labels)\n",
    "\n",
    "''' shaep of train_images and train_labels '''\n",
    "print(train_images.shape)\n",
    "print(train_labels.shape)"
   ]
  },
  {
   "cell_type": "code",
   "execution_count": 8,
   "id": "064fe755",
   "metadata": {
    "execution": {
     "iopub.execute_input": "2022-07-21T04:17:34.784299Z",
     "iopub.status.busy": "2022-07-21T04:17:34.783954Z",
     "iopub.status.idle": "2022-07-21T04:17:34.837263Z",
     "shell.execute_reply": "2022-07-21T04:17:34.835804Z"
    },
    "papermill": {
     "duration": 0.061479,
     "end_time": "2022-07-21T04:17:34.839872",
     "exception": false,
     "start_time": "2022-07-21T04:17:34.778393",
     "status": "completed"
    },
    "tags": []
   },
   "outputs": [
    {
     "name": "stdout",
     "output_type": "stream",
     "text": [
      "(394, 150, 150, 3)\n",
      "(394, 4)\n"
     ]
    }
   ],
   "source": [
    "''' converting labels into to_categorical '''\n",
    "test_labels = to_categorical(test_labels)\n",
    "\n",
    "''' coverting test_images into numpy array '''\n",
    "test_images = np.array(test_images)\n",
    "\n",
    "''' converting train_labesl into numpy array '''\n",
    "test_labels = np.array(test_labels)\n",
    "\n",
    "''' shaep of test_images and test_labels '''\n",
    "print(test_images.shape)\n",
    "print(test_labels.shape)"
   ]
  },
  {
   "cell_type": "code",
   "execution_count": 9,
   "id": "22ba05cb",
   "metadata": {
    "execution": {
     "iopub.execute_input": "2022-07-21T04:17:34.850473Z",
     "iopub.status.busy": "2022-07-21T04:17:34.849891Z",
     "iopub.status.idle": "2022-07-21T04:17:34.853993Z",
     "shell.execute_reply": "2022-07-21T04:17:34.853238Z"
    },
    "papermill": {
     "duration": 0.011764,
     "end_time": "2022-07-21T04:17:34.855947",
     "exception": false,
     "start_time": "2022-07-21T04:17:34.844183",
     "status": "completed"
    },
    "tags": []
   },
   "outputs": [],
   "source": [
    "''' reshaping images '''\n",
    "train_images = train_images.reshape(-1,150,150,3)\n",
    "test_images = test_images.reshape(-1,150,150,3)"
   ]
  },
  {
   "cell_type": "code",
   "execution_count": 10,
   "id": "77e82e97",
   "metadata": {
    "execution": {
     "iopub.execute_input": "2022-07-21T04:17:34.866603Z",
     "iopub.status.busy": "2022-07-21T04:17:34.865557Z",
     "iopub.status.idle": "2022-07-21T04:17:35.188375Z",
     "shell.execute_reply": "2022-07-21T04:17:35.187615Z"
    },
    "papermill": {
     "duration": 0.33041,
     "end_time": "2022-07-21T04:17:35.190650",
     "exception": false,
     "start_time": "2022-07-21T04:17:34.860240",
     "status": "completed"
    },
    "tags": []
   },
   "outputs": [],
   "source": [
    "''' train test split '''\n",
    "X_train, X_test, y_train, y_test = train_test_split(train_images,train_labels, test_size=0.2,random_state=44)"
   ]
  },
  {
   "cell_type": "code",
   "execution_count": 11,
   "id": "9bf19071",
   "metadata": {
    "execution": {
     "iopub.execute_input": "2022-07-21T04:17:35.200921Z",
     "iopub.status.busy": "2022-07-21T04:17:35.200380Z",
     "iopub.status.idle": "2022-07-21T04:17:35.205364Z",
     "shell.execute_reply": "2022-07-21T04:17:35.204352Z"
    },
    "papermill": {
     "duration": 0.012711,
     "end_time": "2022-07-21T04:17:35.207642",
     "exception": false,
     "start_time": "2022-07-21T04:17:35.194931",
     "status": "completed"
    },
    "tags": []
   },
   "outputs": [
    {
     "name": "stdout",
     "output_type": "stream",
     "text": [
      "(2296, 150, 150, 3)\n",
      "(574, 150, 150, 3)\n",
      "(2296, 4)\n",
      "(574, 4)\n"
     ]
    }
   ],
   "source": [
    "''' shape of X_train, X_test, y_train, y_test '''\n",
    "print(X_train.shape)\n",
    "print(X_test.shape)\n",
    "print(y_train.shape)\n",
    "print(y_test.shape)"
   ]
  },
  {
   "cell_type": "code",
   "execution_count": 12,
   "id": "437206ec",
   "metadata": {
    "execution": {
     "iopub.execute_input": "2022-07-21T04:17:35.217511Z",
     "iopub.status.busy": "2022-07-21T04:17:35.217121Z",
     "iopub.status.idle": "2022-07-21T04:17:35.222748Z",
     "shell.execute_reply": "2022-07-21T04:17:35.221697Z"
    },
    "papermill": {
     "duration": 0.012902,
     "end_time": "2022-07-21T04:17:35.224782",
     "exception": false,
     "start_time": "2022-07-21T04:17:35.211880",
     "status": "completed"
    },
    "tags": []
   },
   "outputs": [
    {
     "name": "stdout",
     "output_type": "stream",
     "text": [
      "(2296, 150, 150, 3)\n",
      "(574, 150, 150, 3)\n",
      "(2296, 4)\n",
      "(574, 4)\n"
     ]
    }
   ],
   "source": [
    "''' shape of X_train, X_test, y_train, y_test '''\n",
    "print(X_train.shape)\n",
    "print(X_test.shape)\n",
    "print(y_train.shape)\n",
    "print(y_test.shape)"
   ]
  },
  {
   "cell_type": "code",
   "execution_count": 13,
   "id": "19cb4182",
   "metadata": {
    "execution": {
     "iopub.execute_input": "2022-07-21T04:17:35.235382Z",
     "iopub.status.busy": "2022-07-21T04:17:35.234496Z",
     "iopub.status.idle": "2022-07-21T04:17:44.057515Z",
     "shell.execute_reply": "2022-07-21T04:17:44.056245Z"
    },
    "papermill": {
     "duration": 8.831116,
     "end_time": "2022-07-21T04:17:44.060213",
     "exception": false,
     "start_time": "2022-07-21T04:17:35.229097",
     "status": "completed"
    },
    "tags": []
   },
   "outputs": [
    {
     "name": "stderr",
     "output_type": "stream",
     "text": [
      "2022-07-21 04:17:35.295525: I tensorflow/core/common_runtime/process_util.cc:146] Creating new thread pool with default inter op setting: 2. Tune using inter_op_parallelism_threads for best performance.\n"
     ]
    },
    {
     "name": "stdout",
     "output_type": "stream",
     "text": [
      "Downloading data from https://storage.googleapis.com/tensorflow/keras-applications/densenet/densenet201_weights_tf_dim_ordering_tf_kernels_notop.h5\n",
      "74842112/74836368 [==============================] - 0s 0us/step\n",
      "74850304/74836368 [==============================] - 0s 0us/step\n"
     ]
    }
   ],
   "source": [
    "''' DenseNet201 Model '''\n",
    "model1 = tf.keras.applications.DenseNet201(input_shape=(150,150,3),include_top=False,weights='imagenet',pooling='avg')\n",
    "\n",
    "''' freezing layers '''\n",
    "model1.trainable = False\n",
    "\n",
    "inp = model1.input\n",
    "''' Hidden Layer '''\n",
    "x = tf.keras.layers.Dense(128, activation='relu')(model1.output)\n",
    "''' Classification Layer '''\n",
    "out = tf.keras.layers.Dense(4, activation='softmax')(x)\n",
    "\n",
    "''' Model '''\n",
    "model = tf.keras.Model(inputs=inp, outputs=out)\n",
    "model.compile(loss = 'categorical_crossentropy', optimizer='adam', metrics=['accuracy'])\n",
    "model.load_weights('../input/weight-and-model/mine_model_weights.h5')"
   ]
  },
  {
   "cell_type": "code",
   "execution_count": 14,
   "id": "e04d3054",
   "metadata": {
    "execution": {
     "iopub.execute_input": "2022-07-21T04:17:44.072422Z",
     "iopub.status.busy": "2022-07-21T04:17:44.071779Z",
     "iopub.status.idle": "2022-07-21T04:18:10.081128Z",
     "shell.execute_reply": "2022-07-21T04:18:10.080227Z"
    },
    "papermill": {
     "duration": 26.017826,
     "end_time": "2022-07-21T04:18:10.083404",
     "exception": false,
     "start_time": "2022-07-21T04:17:44.065578",
     "status": "completed"
    },
    "tags": []
   },
   "outputs": [
    {
     "name": "stderr",
     "output_type": "stream",
     "text": [
      "2022-07-21 04:17:44.317817: I tensorflow/compiler/mlir/mlir_graph_optimization_pass.cc:185] None of the MLIR Optimization Passes are enabled (registered 2)\n"
     ]
    },
    {
     "name": "stdout",
     "output_type": "stream",
     "text": [
      "              precision    recall  f1-score   support\n",
      "\n",
      "           0       0.96      0.86      0.91        81\n",
      "           1       0.83      0.96      0.89       157\n",
      "           2       0.81      0.85      0.83       170\n",
      "           3       0.96      0.82      0.88       166\n",
      "\n",
      "    accuracy                           0.87       574\n",
      "   macro avg       0.89      0.87      0.88       574\n",
      "weighted avg       0.88      0.87      0.87       574\n",
      "\n"
     ]
    }
   ],
   "source": [
    "y_pred=model.predict(X_test)\n",
    "\n",
    "''' retreiving max val from predicted values '''\n",
    "pred = np.argmax(y_pred,axis=1)\n",
    "\n",
    "''' retreiving max val from actual values '''\n",
    "ground = np.argmax(y_test,axis=1)\n",
    "\n",
    "''' classificaion report '''\n",
    "print(classification_report(ground,pred))"
   ]
  },
  {
   "cell_type": "code",
   "execution_count": 15,
   "id": "04702cb7",
   "metadata": {
    "execution": {
     "iopub.execute_input": "2022-07-21T04:18:10.095544Z",
     "iopub.status.busy": "2022-07-21T04:18:10.094559Z",
     "iopub.status.idle": "2022-07-21T04:18:10.117281Z",
     "shell.execute_reply": "2022-07-21T04:18:10.116130Z"
    },
    "papermill": {
     "duration": 0.031318,
     "end_time": "2022-07-21T04:18:10.119624",
     "exception": false,
     "start_time": "2022-07-21T04:18:10.088306",
     "status": "completed"
    },
    "tags": []
   },
   "outputs": [
    {
     "data": {
      "image/png": "[encoded data removed]",
      "text/plain": [
       "<PIL.Image.Image image mode=RGB size=150x150>"
      ]
     },
     "execution_count": 15,
     "metadata": {},
     "output_type": "execute_result"
    }
   ],
   "source": [
    "''' loading an image '''\n",
    "load_img(\"../input/brain-tumor-classification-mri/Testing/meningioma_tumor/image(112).jpg\",target_size=(150,150))"
   ]
  },
  {
   "cell_type": "code",
   "execution_count": 16,
   "id": "4781a15b",
   "metadata": {
    "execution": {
     "iopub.execute_input": "2022-07-21T04:18:10.132898Z",
     "iopub.status.busy": "2022-07-21T04:18:10.132286Z",
     "iopub.status.idle": "2022-07-21T04:18:10.355051Z",
     "shell.execute_reply": "2022-07-21T04:18:10.353837Z"
    },
    "papermill": {
     "duration": 0.232307,
     "end_time": "2022-07-21T04:18:10.357650",
     "exception": false,
     "start_time": "2022-07-21T04:18:10.125343",
     "status": "completed"
    },
    "tags": []
   },
   "outputs": [
    {
     "name": "stdout",
     "output_type": "stream",
     "text": [
      "meningioma_tumor\n"
     ]
    },
    {
     "data": {
      "image/png": "[encoded data removed]",
      "text/plain": [
       "<Figure size 432x288 with 1 Axes>"
      ]
     },
     "metadata": {
      "needs_background": "light"
     },
     "output_type": "display_data"
    }
   ],
   "source": [
    "''' predicion on new data '''\n",
    "\n",
    "''' loading an image '''\n",
    "import os, random\n",
    "path = \"../input/brain-tumor-classification-mri/Testing/\"\n",
    "randomtest = random.choice(os.listdir(\"../input/brain-tumor-classification-mri/Testing/\"))\n",
    "randomimage = random.choice(os.listdir((\"../input/brain-tumor-classification-mri/Testing/\")+str(randomtest)+'/'))\n",
    "print(randomtest)\n",
    "randomimage = load_img((path+randomtest+'/'+randomimage),target_size=(150,150))\n",
    "plt.imshow(randomimage)\n",
    "''' converting img to array '''\n",
    "randomimage = img_to_array(randomimage) \n",
    "\n",
    "''' scaling '''\n",
    "img = randomimage/255.0\n",
    "\n",
    "''' expanding dimensions '''\n",
    "img = np.expand_dims(img, axis=0)"
   ]
  },
  {
   "cell_type": "code",
   "execution_count": 17,
   "id": "34a90bdf",
   "metadata": {
    "execution": {
     "iopub.execute_input": "2022-07-21T04:18:10.373080Z",
     "iopub.status.busy": "2022-07-21T04:18:10.372124Z",
     "iopub.status.idle": "2022-07-21T04:18:10.601453Z",
     "shell.execute_reply": "2022-07-21T04:18:10.600063Z"
    },
    "papermill": {
     "duration": 0.240328,
     "end_time": "2022-07-21T04:18:10.604357",
     "exception": false,
     "start_time": "2022-07-21T04:18:10.364029",
     "status": "completed"
    },
    "tags": []
   },
   "outputs": [
    {
     "name": "stdout",
     "output_type": "stream",
     "text": [
      "Prediction is meningioma_tumor.\n"
     ]
    }
   ],
   "source": [
    "lbl_encoding = {0:'no_tumor', 1:'pituitary_tumor', 2:'meningioma_tumor', 3:'glioma_tumor'}\n",
    "\n",
    "def map_label(val):\n",
    "    return lbl_encoding[val]\n",
    "\n",
    "''' predicion '''\n",
    "pred = model.predict(img)\n",
    "\n",
    "''' retreiving max val from predited values'''\n",
    "val = np.argmax(pred)\n",
    "map_val  = map_label(val)\n",
    "\n",
    "print(\"Prediction is {}.\".format(map_val))"
   ]
  }
 ],
 "metadata": {
  "kernelspec": {
   "display_name": "Python 3",
   "language": "python",
   "name": "python3"
  },
  "language_info": {
   "codemirror_mode": {
    "name": "ipython",
    "version": 3
   },
   "file_extension": ".py",
   "mimetype": "text/x-python",
   "name": "python",
   "nbconvert_exporter": "python",
   "pygments_lexer": "ipython3",
   "version": "3.7.12"
  },
  "papermill": {
   "default_parameters": {},
   "duration": 91.623931,
   "end_time": "2022-07-21T04:18:14.034287",
   "environment_variables": {},
   "exception": null,
   "input_path": "__notebook__.ipynb",
   "output_path": "__notebook__.ipynb",
   "parameters": {},
   "start_time": "2022-07-21T04:16:42.410356",
   "version": "2.3.4"
  }
 },
 "nbformat": 4,
 "nbformat_minor": 5
}
