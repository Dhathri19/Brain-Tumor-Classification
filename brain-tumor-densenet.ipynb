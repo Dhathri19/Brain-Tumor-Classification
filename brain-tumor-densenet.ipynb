{
 "cells": [
  {
   "cell_type": "code",
   "execution_count": 1,
   "id": "83117e02",
   "metadata": {
    "_cell_guid": "b1076dfc-b9ad-4769-8c92-a6c4dae69d19",
    "_uuid": "8f2839f25d086af736a60e9eeb907d3b93b6e0e5",
    "execution": {
     "iopub.execute_input": "2022-07-21T01:05:33.172000Z",
     "iopub.status.busy": "2022-07-21T01:05:33.171174Z",
     "iopub.status.idle": "2022-07-21T01:05:44.608624Z",
     "shell.execute_reply": "2022-07-21T01:05:44.607075Z"
    },
    "papermill": {
     "duration": 11.448836,
     "end_time": "2022-07-21T01:05:44.611688",
     "exception": false,
     "start_time": "2022-07-21T01:05:33.162852",
     "status": "completed"
    },
    "tags": []
   },
   "outputs": [],
   "source": [
    "import numpy as np\n",
    "import pandas as pd\n",
    "import os\n",
    "\n",
    "import matplotlib.pyplot as plt\n",
    "import tensorflow as tf\n",
    "from tensorflow import keras\n",
    "from tensorflow.keras.utils import to_categorical\n",
    "from tensorflow.keras.preprocessing.image import load_img, img_to_array\n",
    "from tensorflow.python.keras.preprocessing.image import ImageDataGenerator\n",
    "from sklearn.metrics import classification_report, log_loss, accuracy_score\n",
    "from sklearn.model_selection import train_test_split"
   ]
  },
  {
   "cell_type": "code",
   "execution_count": 2,
   "id": "1cb05ba9",
   "metadata": {
    "execution": {
     "iopub.execute_input": "2022-07-21T01:05:44.625599Z",
     "iopub.status.busy": "2022-07-21T01:05:44.624656Z",
     "iopub.status.idle": "2022-07-21T01:05:44.629949Z",
     "shell.execute_reply": "2022-07-21T01:05:44.628578Z"
    },
    "papermill": {
     "duration": 0.014559,
     "end_time": "2022-07-21T01:05:44.632211",
     "exception": false,
     "start_time": "2022-07-21T01:05:44.617652",
     "status": "completed"
    },
    "tags": []
   },
   "outputs": [],
   "source": [
    "train_path = '../input/brain-tumor-classification-mri/Training'\n",
    "test_path = '../input/brain-tumor-classification-mri/Testing'"
   ]
  },
  {
   "cell_type": "code",
   "execution_count": 3,
   "id": "bafaf6f7",
   "metadata": {
    "execution": {
     "iopub.execute_input": "2022-07-21T01:05:44.645713Z",
     "iopub.status.busy": "2022-07-21T01:05:44.645055Z",
     "iopub.status.idle": "2022-07-21T01:05:44.656607Z",
     "shell.execute_reply": "2022-07-21T01:05:44.655767Z"
    },
    "papermill": {
     "duration": 0.021353,
     "end_time": "2022-07-21T01:05:44.659166",
     "exception": false,
     "start_time": "2022-07-21T01:05:44.637813",
     "status": "completed"
    },
    "tags": []
   },
   "outputs": [
    {
     "name": "stdout",
     "output_type": "stream",
     "text": [
      "['no_tumor', 'pituitary_tumor', 'meningioma_tumor', 'glioma_tumor']\n"
     ]
    }
   ],
   "source": [
    "File=[]\n",
    "for f in os.listdir(train_path):\n",
    "    File += [f]\n",
    "\n",
    "'''  total number of classes '''\n",
    "print(File)"
   ]
  },
  {
   "cell_type": "code",
   "execution_count": 4,
   "id": "8c951215",
   "metadata": {
    "execution": {
     "iopub.execute_input": "2022-07-21T01:05:44.672899Z",
     "iopub.status.busy": "2022-07-21T01:05:44.672157Z",
     "iopub.status.idle": "2022-07-21T01:06:10.615507Z",
     "shell.execute_reply": "2022-07-21T01:06:10.614181Z"
    },
    "papermill": {
     "duration": 25.954549,
     "end_time": "2022-07-21T01:06:10.619553",
     "exception": false,
     "start_time": "2022-07-21T01:05:44.665004",
     "status": "completed"
    },
    "tags": []
   },
   "outputs": [],
   "source": [
    "train_data = []\n",
    "\n",
    "''' label encoding '''\n",
    "mapping={'no_tumor':0, 'pituitary_tumor':1, 'meningioma_tumor':2, 'glioma_tumor':3}\n",
    "\n",
    "count=0\n",
    "\n",
    "for f in os.listdir(train_path):\n",
    "    ''' joining path '''\n",
    "    path = os.path.join(train_path, f)\n",
    "    for im in os.listdir(path):\n",
    "        ''' loading an image '''\n",
    "        img = load_img(os.path.join(path, im), grayscale=False, color_mode='rgb', target_size=(150,150))\n",
    "        ''' converting an image to array '''\n",
    "        img = img_to_array(img)\n",
    "        ''' scaling  '''\n",
    "        img = img / 255.0\n",
    "        ''' appending image to train_data '''\n",
    "        train_data.append([img, count])     \n",
    "    count=count+1"
   ]
  },
  {
   "cell_type": "code",
   "execution_count": 5,
   "id": "2bef76c4",
   "metadata": {
    "execution": {
     "iopub.execute_input": "2022-07-21T01:06:10.638805Z",
     "iopub.status.busy": "2022-07-21T01:06:10.638276Z",
     "iopub.status.idle": "2022-07-21T01:06:13.945911Z",
     "shell.execute_reply": "2022-07-21T01:06:13.944838Z"
    },
    "papermill": {
     "duration": 3.319911,
     "end_time": "2022-07-21T01:06:13.948644",
     "exception": false,
     "start_time": "2022-07-21T01:06:10.628733",
     "status": "completed"
    },
    "tags": []
   },
   "outputs": [],
   "source": [
    "test_data = []\n",
    "\n",
    "''' label encoding '''\n",
    "mapping={'no_tumor':0, 'pituitary_tumor':1, 'meningioma_tumor':2, 'glioma_tumor':3}\n",
    "count=0\n",
    "\n",
    "for f in os.listdir(test_path):\n",
    "    ''' joining path '''\n",
    "    path=os.path.join(test_path, f)\n",
    "    for im in os.listdir(path):\n",
    "        ''' loading an image '''\n",
    "        img = load_img(os.path.join(path, im), grayscale=False, color_mode='rgb', target_size=(150,150))\n",
    "        ''' converting an image to array '''\n",
    "        img = img_to_array(img)\n",
    "        ''' scaling '''\n",
    "        img = img/255.0\n",
    "        ''' appending an image to test_data'''\n",
    "        test_data.append([img, count])         \n",
    "    count=count+1"
   ]
  },
  {
   "cell_type": "code",
   "execution_count": 6,
   "id": "e6dcf580",
   "metadata": {
    "execution": {
     "iopub.execute_input": "2022-07-21T01:06:13.961688Z",
     "iopub.status.busy": "2022-07-21T01:06:13.961235Z",
     "iopub.status.idle": "2022-07-21T01:06:13.967963Z",
     "shell.execute_reply": "2022-07-21T01:06:13.966650Z"
    },
    "papermill": {
     "duration": 0.016162,
     "end_time": "2022-07-21T01:06:13.970426",
     "exception": false,
     "start_time": "2022-07-21T01:06:13.954264",
     "status": "completed"
    },
    "tags": []
   },
   "outputs": [],
   "source": [
    "train_images, train_labels = zip(*train_data)\n",
    "test_images, test_labels = zip(*test_data)"
   ]
  },
  {
   "cell_type": "code",
   "execution_count": 7,
   "id": "fbb100a1",
   "metadata": {
    "execution": {
     "iopub.execute_input": "2022-07-21T01:06:13.983305Z",
     "iopub.status.busy": "2022-07-21T01:06:13.982931Z",
     "iopub.status.idle": "2022-07-21T01:06:14.237515Z",
     "shell.execute_reply": "2022-07-21T01:06:14.235938Z"
    },
    "papermill": {
     "duration": 0.264213,
     "end_time": "2022-07-21T01:06:14.240365",
     "exception": false,
     "start_time": "2022-07-21T01:06:13.976152",
     "status": "completed"
    },
    "tags": []
   },
   "outputs": [
    {
     "name": "stdout",
     "output_type": "stream",
     "text": [
      "(2870, 150, 150, 3)\n",
      "(2870, 4)\n"
     ]
    }
   ],
   "source": [
    "''' converting labels into to_categorical '''\n",
    "train_labels = to_categorical(train_labels)\n",
    "\n",
    "''' coverting train_images into numpy array '''\n",
    "train_images = np.array(train_images)\n",
    "\n",
    "''' converting train_labesl into numpy array '''\n",
    "train_labels = np.array(train_labels)\n",
    "\n",
    "''' shaep of train_images and train_labels '''\n",
    "print(train_images.shape)\n",
    "print(train_labels.shape)"
   ]
  },
  {
   "cell_type": "code",
   "execution_count": 8,
   "id": "1a26c547",
   "metadata": {
    "execution": {
     "iopub.execute_input": "2022-07-21T01:06:14.254384Z",
     "iopub.status.busy": "2022-07-21T01:06:14.253212Z",
     "iopub.status.idle": "2022-07-21T01:06:14.297698Z",
     "shell.execute_reply": "2022-07-21T01:06:14.295892Z"
    },
    "papermill": {
     "duration": 0.054392,
     "end_time": "2022-07-21T01:06:14.300419",
     "exception": false,
     "start_time": "2022-07-21T01:06:14.246027",
     "status": "completed"
    },
    "tags": []
   },
   "outputs": [
    {
     "name": "stdout",
     "output_type": "stream",
     "text": [
      "(394, 150, 150, 3)\n",
      "(394, 4)\n"
     ]
    }
   ],
   "source": [
    "''' converting labels into to_categorical '''\n",
    "test_labels = to_categorical(test_labels)\n",
    "\n",
    "''' coverting test_images into numpy array '''\n",
    "test_images = np.array(test_images)\n",
    "\n",
    "''' converting train_labesl into numpy array '''\n",
    "test_labels = np.array(test_labels)\n",
    "\n",
    "''' shaep of test_images and test_labels '''\n",
    "print(test_images.shape)\n",
    "print(test_labels.shape)"
   ]
  },
  {
   "cell_type": "code",
   "execution_count": 9,
   "id": "b137c92c",
   "metadata": {
    "execution": {
     "iopub.execute_input": "2022-07-21T01:06:14.313736Z",
     "iopub.status.busy": "2022-07-21T01:06:14.313284Z",
     "iopub.status.idle": "2022-07-21T01:06:14.319782Z",
     "shell.execute_reply": "2022-07-21T01:06:14.318526Z"
    },
    "papermill": {
     "duration": 0.016129,
     "end_time": "2022-07-21T01:06:14.322301",
     "exception": false,
     "start_time": "2022-07-21T01:06:14.306172",
     "status": "completed"
    },
    "tags": []
   },
   "outputs": [],
   "source": [
    "''' reshaping images '''\n",
    "train_images = train_images.reshape(-1,150,150,3)\n",
    "test_images = test_images.reshape(-1,150,150,3)"
   ]
  },
  {
   "cell_type": "code",
   "execution_count": 10,
   "id": "ad73c5a6",
   "metadata": {
    "execution": {
     "iopub.execute_input": "2022-07-21T01:06:14.335869Z",
     "iopub.status.busy": "2022-07-21T01:06:14.335446Z",
     "iopub.status.idle": "2022-07-21T01:06:14.585807Z",
     "shell.execute_reply": "2022-07-21T01:06:14.584281Z"
    },
    "papermill": {
     "duration": 0.260679,
     "end_time": "2022-07-21T01:06:14.588772",
     "exception": false,
     "start_time": "2022-07-21T01:06:14.328093",
     "status": "completed"
    },
    "tags": []
   },
   "outputs": [],
   "source": [
    "''' train test split '''\n",
    "X_train, X_test, y_train, y_test = train_test_split(train_images,train_labels, test_size=0.2,random_state=44)"
   ]
  },
  {
   "cell_type": "code",
   "execution_count": 11,
   "id": "87ad6013",
   "metadata": {
    "execution": {
     "iopub.execute_input": "2022-07-21T01:06:14.603627Z",
     "iopub.status.busy": "2022-07-21T01:06:14.602563Z",
     "iopub.status.idle": "2022-07-21T01:06:14.610206Z",
     "shell.execute_reply": "2022-07-21T01:06:14.608497Z"
    },
    "papermill": {
     "duration": 0.017462,
     "end_time": "2022-07-21T01:06:14.612500",
     "exception": false,
     "start_time": "2022-07-21T01:06:14.595038",
     "status": "completed"
    },
    "tags": []
   },
   "outputs": [
    {
     "name": "stdout",
     "output_type": "stream",
     "text": [
      "(2296, 150, 150, 3)\n",
      "(574, 150, 150, 3)\n",
      "(2296, 4)\n",
      "(574, 4)\n"
     ]
    }
   ],
   "source": [
    "''' shape of X_train, X_test, y_train, y_test '''\n",
    "print(X_train.shape)\n",
    "print(X_test.shape)\n",
    "print(y_train.shape)\n",
    "print(y_test.shape)"
   ]
  },
  {
   "cell_type": "code",
   "execution_count": 12,
   "id": "caaa7c34",
   "metadata": {
    "execution": {
     "iopub.execute_input": "2022-07-21T01:06:14.626329Z",
     "iopub.status.busy": "2022-07-21T01:06:14.625929Z",
     "iopub.status.idle": "2022-07-21T01:06:14.632420Z",
     "shell.execute_reply": "2022-07-21T01:06:14.631167Z"
    },
    "papermill": {
     "duration": 0.016092,
     "end_time": "2022-07-21T01:06:14.634746",
     "exception": false,
     "start_time": "2022-07-21T01:06:14.618654",
     "status": "completed"
    },
    "tags": []
   },
   "outputs": [
    {
     "name": "stdout",
     "output_type": "stream",
     "text": [
      "(2296, 150, 150, 3)\n",
      "(574, 150, 150, 3)\n",
      "(2296, 4)\n",
      "(574, 4)\n"
     ]
    }
   ],
   "source": [
    "''' shape of X_train, X_test, y_train, y_test '''\n",
    "print(X_train.shape)\n",
    "print(X_test.shape)\n",
    "print(y_train.shape)\n",
    "print(y_test.shape)"
   ]
  },
  {
   "cell_type": "code",
   "execution_count": 13,
   "id": "b58e9ee8",
   "metadata": {
    "execution": {
     "iopub.execute_input": "2022-07-21T01:06:14.648402Z",
     "iopub.status.busy": "2022-07-21T01:06:14.647975Z",
     "iopub.status.idle": "2022-07-21T01:06:23.784727Z",
     "shell.execute_reply": "2022-07-21T01:06:23.783616Z"
    },
    "papermill": {
     "duration": 9.146788,
     "end_time": "2022-07-21T01:06:23.787592",
     "exception": false,
     "start_time": "2022-07-21T01:06:14.640804",
     "status": "completed"
    },
    "tags": []
   },
   "outputs": [
    {
     "name": "stderr",
     "output_type": "stream",
     "text": [
      "2022-07-21 01:06:14.722207: I tensorflow/core/common_runtime/process_util.cc:146] Creating new thread pool with default inter op setting: 2. Tune using inter_op_parallelism_threads for best performance.\n"
     ]
    },
    {
     "name": "stdout",
     "output_type": "stream",
     "text": [
      "Downloading data from https://storage.googleapis.com/tensorflow/keras-applications/densenet/densenet201_weights_tf_dim_ordering_tf_kernels_notop.h5\n",
      "74842112/74836368 [==============================] - 0s 0us/step\n",
      "74850304/74836368 [==============================] - 0s 0us/step\n"
     ]
    }
   ],
   "source": [
    "''' DenseNet201 Model '''\n",
    "model1 = tf.keras.applications.DenseNet201(input_shape=(150,150,3),include_top=False,weights='imagenet',pooling='avg')\n",
    "\n",
    "''' freezing layers '''\n",
    "model1.trainable = False\n",
    "\n",
    "inp = model1.input\n",
    "''' Hidden Layer '''\n",
    "x = tf.keras.layers.Dense(128, activation='relu')(model1.output)\n",
    "''' Classification Layer '''\n",
    "out = tf.keras.layers.Dense(4, activation='softmax')(x)\n",
    "\n",
    "''' Model '''\n",
    "model = tf.keras.Model(inputs=inp, outputs=out)\n",
    "model.compile(loss = 'categorical_crossentropy', optimizer='adam', metrics=['accuracy'])\n",
    "model.load_weights('../input/weight-and-model/mine_model_weights.h5')"
   ]
  },
  {
   "cell_type": "code",
   "execution_count": 14,
   "id": "0fffd2d4",
   "metadata": {
    "execution": {
     "iopub.execute_input": "2022-07-21T01:06:23.803247Z",
     "iopub.status.busy": "2022-07-21T01:06:23.802877Z",
     "iopub.status.idle": "2022-07-21T01:06:51.620844Z",
     "shell.execute_reply": "2022-07-21T01:06:51.619207Z"
    },
    "papermill": {
     "duration": 27.829776,
     "end_time": "2022-07-21T01:06:51.624194",
     "exception": false,
     "start_time": "2022-07-21T01:06:23.794418",
     "status": "completed"
    },
    "tags": []
   },
   "outputs": [
    {
     "name": "stderr",
     "output_type": "stream",
     "text": [
      "2022-07-21 01:06:24.048049: I tensorflow/compiler/mlir/mlir_graph_optimization_pass.cc:185] None of the MLIR Optimization Passes are enabled (registered 2)\n"
     ]
    },
    {
     "name": "stdout",
     "output_type": "stream",
     "text": [
      "              precision    recall  f1-score   support\n",
      "\n",
      "           0       0.96      0.86      0.91        81\n",
      "           1       0.83      0.96      0.89       157\n",
      "           2       0.81      0.85      0.83       170\n",
      "           3       0.96      0.82      0.88       166\n",
      "\n",
      "    accuracy                           0.87       574\n",
      "   macro avg       0.89      0.87      0.88       574\n",
      "weighted avg       0.88      0.87      0.87       574\n",
      "\n"
     ]
    }
   ],
   "source": [
    "y_pred=model.predict(X_test)\n",
    "\n",
    "''' retreiving max val from predicted values '''\n",
    "pred = np.argmax(y_pred,axis=1)\n",
    "\n",
    "''' retreiving max val from actual values '''\n",
    "ground = np.argmax(y_test,axis=1)\n",
    "\n",
    "''' classificaion report '''\n",
    "print(classification_report(ground,pred))"
   ]
  },
  {
   "cell_type": "code",
   "execution_count": 15,
   "id": "e13602ce",
   "metadata": {
    "execution": {
     "iopub.execute_input": "2022-07-21T01:06:51.640604Z",
     "iopub.status.busy": "2022-07-21T01:06:51.639838Z",
     "iopub.status.idle": "2022-07-21T01:06:51.662470Z",
     "shell.execute_reply": "2022-07-21T01:06:51.661210Z"
    },
    "papermill": {
     "duration": 0.033777,
     "end_time": "2022-07-21T01:06:51.665408",
     "exception": false,
     "start_time": "2022-07-21T01:06:51.631631",
     "status": "completed"
    },
    "tags": []
   },
   "outputs": [
    {
     "data": {
      "image/png": "[encoded data removed]",
      "text/plain": [
       "<PIL.Image.Image image mode=RGB size=150x150>"
      ]
     },
     "execution_count": 15,
     "metadata": {},
     "output_type": "execute_result"
    }
   ],
   "source": [
    "''' loading an image '''\n",
    "load_img(\"../input/brain-tumor-classification-mri/Testing/meningioma_tumor/image(112).jpg\",target_size=(150,150))"
   ]
  },
  {
   "cell_type": "code",
   "execution_count": 16,
   "id": "38f69255",
   "metadata": {
    "execution": {
     "iopub.execute_input": "2022-07-21T01:06:51.682729Z",
     "iopub.status.busy": "2022-07-21T01:06:51.681978Z",
     "iopub.status.idle": "2022-07-21T01:06:51.690875Z",
     "shell.execute_reply": "2022-07-21T01:06:51.690034Z"
    },
    "papermill": {
     "duration": 0.020189,
     "end_time": "2022-07-21T01:06:51.693223",
     "exception": false,
     "start_time": "2022-07-21T01:06:51.673034",
     "status": "completed"
    },
    "tags": []
   },
   "outputs": [],
   "source": [
    "''' predicion on new data '''\n",
    "\n",
    "''' loading an image '''\n",
    "img = load_img(\"../input/brain-tumor-classification-mri/Testing/meningioma_tumor/image(112).jpg\",target_size=(150,150))\n",
    "\n",
    "''' converting img to array '''\n",
    "img = img_to_array(img) \n",
    "\n",
    "''' scaling '''\n",
    "img = img / 255.0\n",
    "\n",
    "''' expanding dimensions '''\n",
    "img = np.expand_dims(img, axis=0)"
   ]
  },
  {
   "cell_type": "code",
   "execution_count": 17,
   "id": "5ea852fc",
   "metadata": {
    "execution": {
     "iopub.execute_input": "2022-07-21T01:06:51.711603Z",
     "iopub.status.busy": "2022-07-21T01:06:51.710801Z",
     "iopub.status.idle": "2022-07-21T01:06:51.967210Z",
     "shell.execute_reply": "2022-07-21T01:06:51.965403Z"
    },
    "papermill": {
     "duration": 0.269126,
     "end_time": "2022-07-21T01:06:51.969941",
     "exception": false,
     "start_time": "2022-07-21T01:06:51.700815",
     "status": "completed"
    },
    "tags": []
   },
   "outputs": [
    {
     "name": "stdout",
     "output_type": "stream",
     "text": [
      "Prediction is meningioma_tumor.\n"
     ]
    }
   ],
   "source": [
    "lbl_encoding = {0:'no_tumor', 1:'pituitary_tumor', 2:'meningioma_tumor', 3:'glioma_tumor'}\n",
    "\n",
    "def map_label(val):\n",
    "    return lbl_encoding[val]\n",
    "\n",
    "''' predicion '''\n",
    "pred = model.predict(img)\n",
    "\n",
    "''' retreiving max val from predited values'''\n",
    "val = np.argmax(pred)\n",
    "map_val  = map_label(val)\n",
    "\n",
    "print(\"Prediction is {}.\".format(map_val))"
   ]
  }
 ],
 "metadata": {
  "kernelspec": {
   "display_name": "Python 3",
   "language": "python",
   "name": "python3"
  },
  "language_info": {
   "codemirror_mode": {
    "name": "ipython",
    "version": 3
   },
   "file_extension": ".py",
   "mimetype": "text/x-python",
   "name": "python",
   "nbconvert_exporter": "python",
   "pygments_lexer": "ipython3",
   "version": "3.7.12"
  },
  "papermill": {
   "default_parameters": {},
   "duration": 92.787032,
   "end_time": "2022-07-21T01:06:55.567289",
   "environment_variables": {},
   "exception": null,
   "input_path": "__notebook__.ipynb",
   "output_path": "__notebook__.ipynb",
   "parameters": {},
   "start_time": "2022-07-21T01:05:22.780257",
   "version": "2.3.4"
  }
 },
 "nbformat": 4,
 "nbformat_minor": 5
}
