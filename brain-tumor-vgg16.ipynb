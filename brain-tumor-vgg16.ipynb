{
 "cells": [
  {
   "cell_type": "code",
   "execution_count": 1,
   "id": "c5ed6eae",
   "metadata": {
    "_cell_guid": "b1076dfc-b9ad-4769-8c92-a6c4dae69d19",
    "_uuid": "8f2839f25d086af736a60e9eeb907d3b93b6e0e5",
    "execution": {
     "iopub.execute_input": "2022-07-21T01:36:42.410405Z",
     "iopub.status.busy": "2022-07-21T01:36:42.408947Z",
     "iopub.status.idle": "2022-07-21T01:36:48.079340Z",
     "shell.execute_reply": "2022-07-21T01:36:48.078370Z",
     "shell.execute_reply.started": "2022-07-21T01:29:14.277216Z"
    },
    "papermill": {
     "duration": 5.688974,
     "end_time": "2022-07-21T01:36:48.079498",
     "exception": false,
     "start_time": "2022-07-21T01:36:42.390524",
     "status": "completed"
    },
    "tags": []
   },
   "outputs": [
    {
     "name": "stderr",
     "output_type": "stream",
     "text": [
      "2022-07-21 01:36:43.094374: I tensorflow/stream_executor/platform/default/dso_loader.cc:49] Successfully opened dynamic library libcudart.so.11.0\n"
     ]
    }
   ],
   "source": [
    "import numpy as np\n",
    "import pandas as pd\n",
    "import os\n",
    "\n",
    "import matplotlib.pyplot as plt\n",
    "import tensorflow as tf\n",
    "from tensorflow import keras\n",
    "from tensorflow.keras.utils import to_categorical\n",
    "from tensorflow.keras.preprocessing.image import load_img, img_to_array\n",
    "from tensorflow.python.keras.preprocessing.image import ImageDataGenerator\n",
    "from sklearn.metrics import classification_report, log_loss, accuracy_score\n",
    "from sklearn.model_selection import train_test_split"
   ]
  },
  {
   "cell_type": "code",
   "execution_count": 2,
   "id": "490d8b13",
   "metadata": {
    "execution": {
     "iopub.execute_input": "2022-07-21T01:36:48.112805Z",
     "iopub.status.busy": "2022-07-21T01:36:48.112033Z",
     "iopub.status.idle": "2022-07-21T01:36:48.114473Z",
     "shell.execute_reply": "2022-07-21T01:36:48.114069Z",
     "shell.execute_reply.started": "2022-07-21T01:29:19.582424Z"
    },
    "papermill": {
     "duration": 0.020302,
     "end_time": "2022-07-21T01:36:48.114582",
     "exception": false,
     "start_time": "2022-07-21T01:36:48.094280",
     "status": "completed"
    },
    "tags": []
   },
   "outputs": [],
   "source": [
    "''' train and test path '''\n",
    "train_path = '../input/brain-tumor-classification-mri/Training'\n",
    "test_path = '../input/brain-tumor-classification-mri/Testing'"
   ]
  },
  {
   "cell_type": "code",
   "execution_count": 3,
   "id": "7da67f75",
   "metadata": {
    "execution": {
     "iopub.execute_input": "2022-07-21T01:36:48.146387Z",
     "iopub.status.busy": "2022-07-21T01:36:48.145768Z",
     "iopub.status.idle": "2022-07-21T01:36:48.152746Z",
     "shell.execute_reply": "2022-07-21T01:36:48.153101Z",
     "shell.execute_reply.started": "2022-07-21T01:29:19.592097Z"
    },
    "papermill": {
     "duration": 0.024948,
     "end_time": "2022-07-21T01:36:48.153247",
     "exception": false,
     "start_time": "2022-07-21T01:36:48.128299",
     "status": "completed"
    },
    "tags": []
   },
   "outputs": [
    {
     "name": "stdout",
     "output_type": "stream",
     "text": [
      "['no_tumor', 'pituitary_tumor', 'meningioma_tumor', 'glioma_tumor']\n"
     ]
    }
   ],
   "source": [
    "File=[]\n",
    "for f in os.listdir(train_path):\n",
    "    File += [f]\n",
    "\n",
    "'''  total number of classes '''\n",
    "print(File)"
   ]
  },
  {
   "cell_type": "code",
   "execution_count": 4,
   "id": "e631b1ae",
   "metadata": {
    "execution": {
     "iopub.execute_input": "2022-07-21T01:36:48.184690Z",
     "iopub.status.busy": "2022-07-21T01:36:48.183904Z",
     "iopub.status.idle": "2022-07-21T01:37:06.438451Z",
     "shell.execute_reply": "2022-07-21T01:37:06.437829Z",
     "shell.execute_reply.started": "2022-07-21T01:29:19.609503Z"
    },
    "papermill": {
     "duration": 18.271089,
     "end_time": "2022-07-21T01:37:06.438599",
     "exception": false,
     "start_time": "2022-07-21T01:36:48.167510",
     "status": "completed"
    },
    "tags": []
   },
   "outputs": [],
   "source": [
    "''' reading images '''\n",
    "\n",
    "train_data = []\n",
    "\n",
    "''' label encoding '''\n",
    "mapping={'no_tumor':0, 'pituitary_tumor':1, 'meningioma_tumor':2, 'glioma_tumor':3}\n",
    "\n",
    "count=0\n",
    "\n",
    "for f in os.listdir(train_path):\n",
    "    ''' joining path '''\n",
    "    path = os.path.join(train_path, f)\n",
    "    for im in os.listdir(path):\n",
    "        ''' loading an image '''\n",
    "        img = load_img(os.path.join(path, im), grayscale=False, color_mode='rgb', target_size=(150,150))\n",
    "        ''' converting an image to array '''\n",
    "        img = img_to_array(img)\n",
    "        ''' scaling  '''\n",
    "        img = img / 255.0\n",
    "        ''' appending image to train_data '''\n",
    "        train_data.append([img, count])     \n",
    "    count=count+1"
   ]
  },
  {
   "cell_type": "code",
   "execution_count": 5,
   "id": "11ccda3b",
   "metadata": {
    "execution": {
     "iopub.execute_input": "2022-07-21T01:37:06.473974Z",
     "iopub.status.busy": "2022-07-21T01:37:06.469947Z",
     "iopub.status.idle": "2022-07-21T01:37:09.115603Z",
     "shell.execute_reply": "2022-07-21T01:37:09.116361Z",
     "shell.execute_reply.started": "2022-07-21T01:29:38.372699Z"
    },
    "papermill": {
     "duration": 2.663075,
     "end_time": "2022-07-21T01:37:09.116618",
     "exception": false,
     "start_time": "2022-07-21T01:37:06.453543",
     "status": "completed"
    },
    "tags": []
   },
   "outputs": [],
   "source": [
    "test_data = []\n",
    "\n",
    "''' label encoding '''\n",
    "mapping={'no_tumor':0, 'pituitary_tumor':1, 'meningioma_tumor':2, 'glioma_tumor':3}\n",
    "count=0\n",
    "\n",
    "for f in os.listdir(test_path):\n",
    "    ''' joining path '''\n",
    "    path=os.path.join(test_path, f)\n",
    "    for im in os.listdir(path):\n",
    "        ''' loading an image '''\n",
    "        img = load_img(os.path.join(path, im), grayscale=False, color_mode='rgb', target_size=(150,150))\n",
    "        ''' converting an image to array '''\n",
    "        img = img_to_array(img)\n",
    "        ''' scaling '''\n",
    "        img = img/255.0\n",
    "        ''' appending an image to test_data'''\n",
    "        test_data.append([img, count])         \n",
    "    count=count+1"
   ]
  },
  {
   "cell_type": "code",
   "execution_count": 6,
   "id": "08407b35",
   "metadata": {
    "execution": {
     "iopub.execute_input": "2022-07-21T01:37:09.169423Z",
     "iopub.status.busy": "2022-07-21T01:37:09.168594Z",
     "iopub.status.idle": "2022-07-21T01:37:09.171166Z",
     "shell.execute_reply": "2022-07-21T01:37:09.170715Z",
     "shell.execute_reply.started": "2022-07-21T01:29:40.681191Z"
    },
    "papermill": {
     "duration": 0.030682,
     "end_time": "2022-07-21T01:37:09.171312",
     "exception": false,
     "start_time": "2022-07-21T01:37:09.140630",
     "status": "completed"
    },
    "tags": []
   },
   "outputs": [],
   "source": [
    "train_images, train_labels = zip(*train_data)\n",
    "test_images, test_labels = zip(*test_data)"
   ]
  },
  {
   "cell_type": "code",
   "execution_count": 7,
   "id": "cfdeb1a2",
   "metadata": {
    "execution": {
     "iopub.execute_input": "2022-07-21T01:37:09.237029Z",
     "iopub.status.busy": "2022-07-21T01:37:09.233210Z",
     "iopub.status.idle": "2022-07-21T01:37:09.482543Z",
     "shell.execute_reply": "2022-07-21T01:37:09.483753Z",
     "shell.execute_reply.started": "2022-07-21T01:29:40.691724Z"
    },
    "papermill": {
     "duration": 0.283887,
     "end_time": "2022-07-21T01:37:09.484039",
     "exception": false,
     "start_time": "2022-07-21T01:37:09.200152",
     "status": "completed"
    },
    "tags": []
   },
   "outputs": [
    {
     "name": "stdout",
     "output_type": "stream",
     "text": [
      "(2870, 150, 150, 3)\n",
      "(2870, 4)\n"
     ]
    }
   ],
   "source": [
    "''' converting labels into to_categorical '''\n",
    "train_labels = to_categorical(train_labels)\n",
    "\n",
    "''' coverting train_images into numpy array '''\n",
    "train_images = np.array(train_images)\n",
    "\n",
    "''' converting train_labesl into numpy array '''\n",
    "train_labels = np.array(train_labels)\n",
    "\n",
    "''' shaep of train_images and train_labels '''\n",
    "print(train_images.shape)\n",
    "print(train_labels.shape)"
   ]
  },
  {
   "cell_type": "code",
   "execution_count": 8,
   "id": "43867350",
   "metadata": {
    "execution": {
     "iopub.execute_input": "2022-07-21T01:37:09.551328Z",
     "iopub.status.busy": "2022-07-21T01:37:09.548967Z",
     "iopub.status.idle": "2022-07-21T01:37:09.595089Z",
     "shell.execute_reply": "2022-07-21T01:37:09.596392Z",
     "shell.execute_reply.started": "2022-07-21T01:29:40.934078Z"
    },
    "papermill": {
     "duration": 0.08422,
     "end_time": "2022-07-21T01:37:09.596596",
     "exception": false,
     "start_time": "2022-07-21T01:37:09.512376",
     "status": "completed"
    },
    "tags": []
   },
   "outputs": [
    {
     "name": "stdout",
     "output_type": "stream",
     "text": [
      "(394, 150, 150, 3)\n",
      "(394, 4)\n"
     ]
    }
   ],
   "source": [
    "''' converting labels into to_categorical '''\n",
    "test_labels = to_categorical(test_labels)\n",
    "\n",
    "''' coverting test_images into numpy array '''\n",
    "test_images = np.array(test_images)\n",
    "\n",
    "''' converting train_labesl into numpy array '''\n",
    "test_labels = np.array(test_labels)\n",
    "\n",
    "''' shaep of test_images and test_labels '''\n",
    "print(test_images.shape)\n",
    "print(test_labels.shape)"
   ]
  },
  {
   "cell_type": "code",
   "execution_count": 9,
   "id": "35454b9b",
   "metadata": {
    "execution": {
     "iopub.execute_input": "2022-07-21T01:37:09.664446Z",
     "iopub.status.busy": "2022-07-21T01:37:09.663413Z",
     "iopub.status.idle": "2022-07-21T01:37:09.666173Z",
     "shell.execute_reply": "2022-07-21T01:37:09.665391Z",
     "shell.execute_reply.started": "2022-07-21T01:29:40.975332Z"
    },
    "papermill": {
     "duration": 0.0405,
     "end_time": "2022-07-21T01:37:09.666364",
     "exception": false,
     "start_time": "2022-07-21T01:37:09.625864",
     "status": "completed"
    },
    "tags": []
   },
   "outputs": [],
   "source": [
    "''' reshaping images '''\n",
    "train_images = train_images.reshape(-1,150,150,3)\n",
    "test_images = test_images.reshape(-1,150,150,3)"
   ]
  },
  {
   "cell_type": "code",
   "execution_count": 10,
   "id": "3e1e2dae",
   "metadata": {
    "execution": {
     "iopub.execute_input": "2022-07-21T01:37:09.739415Z",
     "iopub.status.busy": "2022-07-21T01:37:09.737387Z",
     "iopub.status.idle": "2022-07-21T01:37:09.982564Z",
     "shell.execute_reply": "2022-07-21T01:37:09.981980Z",
     "shell.execute_reply.started": "2022-07-21T01:29:40.981556Z"
    },
    "papermill": {
     "duration": 0.285714,
     "end_time": "2022-07-21T01:37:09.982716",
     "exception": false,
     "start_time": "2022-07-21T01:37:09.697002",
     "status": "completed"
    },
    "tags": []
   },
   "outputs": [],
   "source": [
    "''' train test split '''\n",
    "X_train, X_test, y_train, y_test = train_test_split(train_images,train_labels, test_size=0.2,random_state=44)"
   ]
  },
  {
   "cell_type": "code",
   "execution_count": 11,
   "id": "6a20b9de",
   "metadata": {
    "execution": {
     "iopub.execute_input": "2022-07-21T01:37:10.020687Z",
     "iopub.status.busy": "2022-07-21T01:37:10.020022Z",
     "iopub.status.idle": "2022-07-21T01:37:10.022881Z",
     "shell.execute_reply": "2022-07-21T01:37:10.023482Z",
     "shell.execute_reply.started": "2022-07-21T01:29:41.218296Z"
    },
    "papermill": {
     "duration": 0.024558,
     "end_time": "2022-07-21T01:37:10.023648",
     "exception": false,
     "start_time": "2022-07-21T01:37:09.999090",
     "status": "completed"
    },
    "tags": []
   },
   "outputs": [
    {
     "name": "stdout",
     "output_type": "stream",
     "text": [
      "(2296, 150, 150, 3)\n",
      "(574, 150, 150, 3)\n",
      "(2296, 4)\n",
      "(574, 4)\n"
     ]
    }
   ],
   "source": [
    "''' shape of X_train, X_test, y_train, y_test '''\n",
    "print(X_train.shape)\n",
    "print(X_test.shape)\n",
    "print(y_train.shape)\n",
    "print(y_test.shape)"
   ]
  },
  {
   "cell_type": "code",
   "execution_count": 12,
   "id": "5e53eace",
   "metadata": {
    "execution": {
     "iopub.execute_input": "2022-07-21T01:37:10.062640Z",
     "iopub.status.busy": "2022-07-21T01:37:10.061475Z",
     "iopub.status.idle": "2022-07-21T01:37:10.065168Z",
     "shell.execute_reply": "2022-07-21T01:37:10.064566Z",
     "shell.execute_reply.started": "2022-07-21T01:29:41.229126Z"
    },
    "papermill": {
     "duration": 0.025037,
     "end_time": "2022-07-21T01:37:10.065319",
     "exception": false,
     "start_time": "2022-07-21T01:37:10.040282",
     "status": "completed"
    },
    "tags": []
   },
   "outputs": [
    {
     "name": "stdout",
     "output_type": "stream",
     "text": [
      "(2296, 150, 150, 3)\n",
      "(574, 150, 150, 3)\n",
      "(2296, 4)\n",
      "(574, 4)\n"
     ]
    }
   ],
   "source": [
    "''' shape of X_train, X_test, y_train, y_test '''\n",
    "print(X_train.shape)\n",
    "print(X_test.shape)\n",
    "print(y_train.shape)\n",
    "print(y_test.shape)"
   ]
  },
  {
   "cell_type": "code",
   "execution_count": 13,
   "id": "a25d2c78",
   "metadata": {
    "execution": {
     "iopub.execute_input": "2022-07-21T01:37:10.100550Z",
     "iopub.status.busy": "2022-07-21T01:37:10.099834Z",
     "iopub.status.idle": "2022-07-21T01:37:10.102343Z",
     "shell.execute_reply": "2022-07-21T01:37:10.101905Z",
     "shell.execute_reply.started": "2022-07-21T01:29:41.237181Z"
    },
    "papermill": {
     "duration": 0.021043,
     "end_time": "2022-07-21T01:37:10.102447",
     "exception": false,
     "start_time": "2022-07-21T01:37:10.081404",
     "status": "completed"
    },
    "tags": []
   },
   "outputs": [],
   "source": [
    "''' data Augmentation '''\n",
    "data_aug = ImageDataGenerator(horizontal_flip=True, vertical_flip=True, rotation_range=20, zoom_range=0.2,\n",
    "                    width_shift_range=0.2, height_shift_range=0.2, shear_range=0.1, fill_mode=\"nearest\")"
   ]
  },
  {
   "cell_type": "code",
   "execution_count": 14,
   "id": "2704aaca",
   "metadata": {
    "execution": {
     "iopub.execute_input": "2022-07-21T01:37:10.136298Z",
     "iopub.status.busy": "2022-07-21T01:37:10.135779Z",
     "iopub.status.idle": "2022-07-21T01:37:10.139151Z",
     "shell.execute_reply": "2022-07-21T01:37:10.138725Z",
     "shell.execute_reply.started": "2022-07-21T01:29:41.245137Z"
    },
    "papermill": {
     "duration": 0.021899,
     "end_time": "2022-07-21T01:37:10.139279",
     "exception": false,
     "start_time": "2022-07-21T01:37:10.117380",
     "status": "completed"
    },
    "tags": []
   },
   "outputs": [],
   "source": [
    "from tensorflow.keras.callbacks import EarlyStopping\n",
    "early_stopping = EarlyStopping(monitor='val_loss', patience=10,verbose=1)"
   ]
  },
  {
   "cell_type": "code",
   "execution_count": 15,
   "id": "a75ba76f",
   "metadata": {
    "execution": {
     "iopub.execute_input": "2022-07-21T01:37:10.182559Z",
     "iopub.status.busy": "2022-07-21T01:37:10.182023Z",
     "iopub.status.idle": "2022-07-21T01:37:13.012206Z",
     "shell.execute_reply": "2022-07-21T01:37:13.012812Z",
     "shell.execute_reply.started": "2022-07-21T01:29:41.259738Z"
    },
    "papermill": {
     "duration": 2.857537,
     "end_time": "2022-07-21T01:37:13.013022",
     "exception": false,
     "start_time": "2022-07-21T01:37:10.155485",
     "status": "completed"
    },
    "tags": []
   },
   "outputs": [
    {
     "name": "stderr",
     "output_type": "stream",
     "text": [
      "2022-07-21 01:37:10.206060: I tensorflow/compiler/jit/xla_cpu_device.cc:41] Not creating XLA devices, tf_xla_enable_xla_devices not set\n",
      "2022-07-21 01:37:10.209621: I tensorflow/stream_executor/platform/default/dso_loader.cc:49] Successfully opened dynamic library libcuda.so.1\n",
      "2022-07-21 01:37:10.270306: I tensorflow/stream_executor/cuda/cuda_gpu_executor.cc:941] successful NUMA node read from SysFS had negative value (-1), but there must be at least one NUMA node, so returning NUMA node zero\n",
      "2022-07-21 01:37:10.270998: I tensorflow/core/common_runtime/gpu/gpu_device.cc:1720] Found device 0 with properties: \n",
      "pciBusID: 0000:00:04.0 name: Tesla P100-PCIE-16GB computeCapability: 6.0\n",
      "coreClock: 1.3285GHz coreCount: 56 deviceMemorySize: 15.90GiB deviceMemoryBandwidth: 681.88GiB/s\n",
      "2022-07-21 01:37:10.271056: I tensorflow/stream_executor/platform/default/dso_loader.cc:49] Successfully opened dynamic library libcudart.so.11.0\n",
      "2022-07-21 01:37:10.316125: I tensorflow/stream_executor/platform/default/dso_loader.cc:49] Successfully opened dynamic library libcublas.so.11\n",
      "2022-07-21 01:37:10.316280: I tensorflow/stream_executor/platform/default/dso_loader.cc:49] Successfully opened dynamic library libcublasLt.so.11\n",
      "2022-07-21 01:37:10.337673: I tensorflow/stream_executor/platform/default/dso_loader.cc:49] Successfully opened dynamic library libcufft.so.10\n",
      "2022-07-21 01:37:10.345963: I tensorflow/stream_executor/platform/default/dso_loader.cc:49] Successfully opened dynamic library libcurand.so.10\n",
      "2022-07-21 01:37:10.372632: I tensorflow/stream_executor/platform/default/dso_loader.cc:49] Successfully opened dynamic library libcusolver.so.10\n",
      "2022-07-21 01:37:10.380424: I tensorflow/stream_executor/platform/default/dso_loader.cc:49] Successfully opened dynamic library libcusparse.so.11\n",
      "2022-07-21 01:37:10.384025: I tensorflow/stream_executor/platform/default/dso_loader.cc:49] Successfully opened dynamic library libcudnn.so.8\n",
      "2022-07-21 01:37:10.384201: I tensorflow/stream_executor/cuda/cuda_gpu_executor.cc:941] successful NUMA node read from SysFS had negative value (-1), but there must be at least one NUMA node, so returning NUMA node zero\n",
      "2022-07-21 01:37:10.384928: I tensorflow/stream_executor/cuda/cuda_gpu_executor.cc:941] successful NUMA node read from SysFS had negative value (-1), but there must be at least one NUMA node, so returning NUMA node zero\n",
      "2022-07-21 01:37:10.386726: I tensorflow/core/common_runtime/gpu/gpu_device.cc:1862] Adding visible gpu devices: 0\n",
      "2022-07-21 01:37:10.387257: I tensorflow/core/platform/cpu_feature_guard.cc:142] This TensorFlow binary is optimized with oneAPI Deep Neural Network Library (oneDNN) to use the following CPU instructions in performance-critical operations:  AVX2 AVX512F FMA\n",
      "To enable them in other operations, rebuild TensorFlow with the appropriate compiler flags.\n",
      "2022-07-21 01:37:10.387508: I tensorflow/compiler/jit/xla_gpu_device.cc:99] Not creating XLA devices, tf_xla_enable_xla_devices not set\n",
      "2022-07-21 01:37:10.387676: I tensorflow/stream_executor/cuda/cuda_gpu_executor.cc:941] successful NUMA node read from SysFS had negative value (-1), but there must be at least one NUMA node, so returning NUMA node zero\n",
      "2022-07-21 01:37:10.388294: I tensorflow/core/common_runtime/gpu/gpu_device.cc:1720] Found device 0 with properties: \n",
      "pciBusID: 0000:00:04.0 name: Tesla P100-PCIE-16GB computeCapability: 6.0\n",
      "coreClock: 1.3285GHz coreCount: 56 deviceMemorySize: 15.90GiB deviceMemoryBandwidth: 681.88GiB/s\n",
      "2022-07-21 01:37:10.388345: I tensorflow/stream_executor/platform/default/dso_loader.cc:49] Successfully opened dynamic library libcudart.so.11.0\n",
      "2022-07-21 01:37:10.388373: I tensorflow/stream_executor/platform/default/dso_loader.cc:49] Successfully opened dynamic library libcublas.so.11\n",
      "2022-07-21 01:37:10.388390: I tensorflow/stream_executor/platform/default/dso_loader.cc:49] Successfully opened dynamic library libcublasLt.so.11\n",
      "2022-07-21 01:37:10.388423: I tensorflow/stream_executor/platform/default/dso_loader.cc:49] Successfully opened dynamic library libcufft.so.10\n",
      "2022-07-21 01:37:10.388439: I tensorflow/stream_executor/platform/default/dso_loader.cc:49] Successfully opened dynamic library libcurand.so.10\n",
      "2022-07-21 01:37:10.388455: I tensorflow/stream_executor/platform/default/dso_loader.cc:49] Successfully opened dynamic library libcusolver.so.10\n",
      "2022-07-21 01:37:10.388473: I tensorflow/stream_executor/platform/default/dso_loader.cc:49] Successfully opened dynamic library libcusparse.so.11\n",
      "2022-07-21 01:37:10.388489: I tensorflow/stream_executor/platform/default/dso_loader.cc:49] Successfully opened dynamic library libcudnn.so.8\n",
      "2022-07-21 01:37:10.388582: I tensorflow/stream_executor/cuda/cuda_gpu_executor.cc:941] successful NUMA node read from SysFS had negative value (-1), but there must be at least one NUMA node, so returning NUMA node zero\n",
      "2022-07-21 01:37:10.389249: I tensorflow/stream_executor/cuda/cuda_gpu_executor.cc:941] successful NUMA node read from SysFS had negative value (-1), but there must be at least one NUMA node, so returning NUMA node zero\n",
      "2022-07-21 01:37:10.389804: I tensorflow/core/common_runtime/gpu/gpu_device.cc:1862] Adding visible gpu devices: 0\n",
      "2022-07-21 01:37:10.390763: I tensorflow/stream_executor/platform/default/dso_loader.cc:49] Successfully opened dynamic library libcudart.so.11.0\n",
      "2022-07-21 01:37:12.010724: I tensorflow/core/common_runtime/gpu/gpu_device.cc:1261] Device interconnect StreamExecutor with strength 1 edge matrix:\n",
      "2022-07-21 01:37:12.010770: I tensorflow/core/common_runtime/gpu/gpu_device.cc:1267]      0 \n",
      "2022-07-21 01:37:12.010780: I tensorflow/core/common_runtime/gpu/gpu_device.cc:1280] 0:   N \n",
      "2022-07-21 01:37:12.013074: I tensorflow/stream_executor/cuda/cuda_gpu_executor.cc:941] successful NUMA node read from SysFS had negative value (-1), but there must be at least one NUMA node, so returning NUMA node zero\n",
      "2022-07-21 01:37:12.013984: I tensorflow/stream_executor/cuda/cuda_gpu_executor.cc:941] successful NUMA node read from SysFS had negative value (-1), but there must be at least one NUMA node, so returning NUMA node zero\n",
      "2022-07-21 01:37:12.014669: I tensorflow/stream_executor/cuda/cuda_gpu_executor.cc:941] successful NUMA node read from SysFS had negative value (-1), but there must be at least one NUMA node, so returning NUMA node zero\n",
      "2022-07-21 01:37:12.015250: I tensorflow/core/common_runtime/gpu/gpu_device.cc:1406] Created TensorFlow device (/job:localhost/replica:0/task:0/device:GPU:0 with 14957 MB memory) -> physical GPU (device: 0, name: Tesla P100-PCIE-16GB, pci bus id: 0000:00:04.0, compute capability: 6.0)\n"
     ]
    },
    {
     "name": "stdout",
     "output_type": "stream",
     "text": [
      "Downloading data from https://storage.googleapis.com/tensorflow/keras-applications/vgg16/vgg16_weights_tf_dim_ordering_tf_kernels_notop.h5\n",
      "58892288/58889256 [==============================] - 0s 0us/step\n",
      "Model: \"model\"\n",
      "_________________________________________________________________\n",
      "Layer (type)                 Output Shape              Param #   \n",
      "=================================================================\n",
      "input_1 (InputLayer)         [(None, 150, 150, 3)]     0         \n",
      "_________________________________________________________________\n",
      "block1_conv1 (Conv2D)        (None, 150, 150, 64)      1792      \n",
      "_________________________________________________________________\n",
      "block1_conv2 (Conv2D)        (None, 150, 150, 64)      36928     \n",
      "_________________________________________________________________\n",
      "block1_pool (MaxPooling2D)   (None, 75, 75, 64)        0         \n",
      "_________________________________________________________________\n",
      "block2_conv1 (Conv2D)        (None, 75, 75, 128)       73856     \n",
      "_________________________________________________________________\n",
      "block2_conv2 (Conv2D)        (None, 75, 75, 128)       147584    \n",
      "_________________________________________________________________\n",
      "block2_pool (MaxPooling2D)   (None, 37, 37, 128)       0         \n",
      "_________________________________________________________________\n",
      "block3_conv1 (Conv2D)        (None, 37, 37, 256)       295168    \n",
      "_________________________________________________________________\n",
      "block3_conv2 (Conv2D)        (None, 37, 37, 256)       590080    \n",
      "_________________________________________________________________\n",
      "block3_conv3 (Conv2D)        (None, 37, 37, 256)       590080    \n",
      "_________________________________________________________________\n",
      "block3_pool (MaxPooling2D)   (None, 18, 18, 256)       0         \n",
      "_________________________________________________________________\n",
      "block4_conv1 (Conv2D)        (None, 18, 18, 512)       1180160   \n",
      "_________________________________________________________________\n",
      "block4_conv2 (Conv2D)        (None, 18, 18, 512)       2359808   \n",
      "_________________________________________________________________\n",
      "block4_conv3 (Conv2D)        (None, 18, 18, 512)       2359808   \n",
      "_________________________________________________________________\n",
      "block4_pool (MaxPooling2D)   (None, 9, 9, 512)         0         \n",
      "_________________________________________________________________\n",
      "block5_conv1 (Conv2D)        (None, 9, 9, 512)         2359808   \n",
      "_________________________________________________________________\n",
      "block5_conv2 (Conv2D)        (None, 9, 9, 512)         2359808   \n",
      "_________________________________________________________________\n",
      "block5_conv3 (Conv2D)        (None, 9, 9, 512)         2359808   \n",
      "_________________________________________________________________\n",
      "block5_pool (MaxPooling2D)   (None, 4, 4, 512)         0         \n",
      "_________________________________________________________________\n",
      "flatten (Flatten)            (None, 8192)              0         \n",
      "_________________________________________________________________\n",
      "dense (Dense)                (None, 4)                 32772     \n",
      "=================================================================\n",
      "Total params: 14,747,460\n",
      "Trainable params: 32,772\n",
      "Non-trainable params: 14,714,688\n",
      "_________________________________________________________________\n"
     ]
    }
   ],
   "source": [
    "from tensorflow.keras.applications.vgg16 import VGG16\n",
    "from tensorflow.keras.models import Model\n",
    "from tensorflow.keras.layers import Flatten,Dense\n",
    "vgg = VGG16(input_shape=(150,150,3), weights='imagenet', include_top=False)\n",
    "\n",
    "# don't train existing weights\n",
    "for layer in vgg.layers:\n",
    "    layer.trainable = False\n",
    "  \n",
    "\n",
    "  \n",
    "  # useful for getting number of classes\n",
    "\n",
    "  \n",
    "\n",
    "# our layers - you can add more if you want\n",
    "x = Flatten()(vgg.output)\n",
    "# x = Dense(1000, activation='relu')(x)\n",
    "prediction = Dense(4, activation='softmax')(x)\n",
    "\n",
    "# create a model object\n",
    "model3 = Model(inputs=vgg.input, outputs=prediction)\n",
    "\n",
    "# view the structure of the model\n",
    "model3.summary()\n",
    "\n",
    "# tell the model what cost and optimization method to use\n",
    "model3.compile(\n",
    "  loss='categorical_crossentropy',\n",
    "  optimizer='adam',\n",
    "  metrics=['accuracy']\n",
    ")"
   ]
  },
  {
   "cell_type": "code",
   "execution_count": 16,
   "id": "5228e754",
   "metadata": {
    "execution": {
     "iopub.execute_input": "2022-07-21T01:37:13.060989Z",
     "iopub.status.busy": "2022-07-21T01:37:13.060393Z",
     "iopub.status.idle": "2022-07-21T01:41:21.760914Z",
     "shell.execute_reply": "2022-07-21T01:41:21.760428Z",
     "shell.execute_reply.started": "2022-07-21T01:29:44.197345Z"
    },
    "papermill": {
     "duration": 248.722832,
     "end_time": "2022-07-21T01:41:21.761060",
     "exception": false,
     "start_time": "2022-07-21T01:37:13.038228",
     "status": "completed"
    },
    "tags": []
   },
   "outputs": [
    {
     "name": "stderr",
     "output_type": "stream",
     "text": [
      "2022-07-21 01:37:13.277582: I tensorflow/compiler/mlir/mlir_graph_optimization_pass.cc:116] None of the MLIR optimization passes are enabled (registered 2)\n",
      "2022-07-21 01:37:13.284342: I tensorflow/core/platform/profile_utils/cpu_utils.cc:112] CPU Frequency: 2000179999 Hz\n"
     ]
    },
    {
     "name": "stdout",
     "output_type": "stream",
     "text": [
      "Epoch 1/20\n"
     ]
    },
    {
     "name": "stderr",
     "output_type": "stream",
     "text": [
      "2022-07-21 01:37:14.034991: I tensorflow/stream_executor/platform/default/dso_loader.cc:49] Successfully opened dynamic library libcublas.so.11\n",
      "2022-07-21 01:37:14.889551: I tensorflow/stream_executor/platform/default/dso_loader.cc:49] Successfully opened dynamic library libcublasLt.so.11\n",
      "2022-07-21 01:37:14.915782: I tensorflow/stream_executor/platform/default/dso_loader.cc:49] Successfully opened dynamic library libcudnn.so.8\n"
     ]
    },
    {
     "name": "stdout",
     "output_type": "stream",
     "text": [
      "72/72 [==============================] - 23s 199ms/step - loss: 1.1775 - accuracy: 0.4899 - val_loss: 0.7098 - val_accuracy: 0.7456\n",
      "Epoch 2/20\n",
      "72/72 [==============================] - 12s 169ms/step - loss: 0.7859 - accuracy: 0.6868 - val_loss: 0.6417 - val_accuracy: 0.7753\n",
      "Epoch 3/20\n",
      "72/72 [==============================] - 12s 161ms/step - loss: 0.6755 - accuracy: 0.7347 - val_loss: 0.6515 - val_accuracy: 0.7613\n",
      "Epoch 4/20\n",
      "72/72 [==============================] - 12s 161ms/step - loss: 0.6620 - accuracy: 0.7410 - val_loss: 0.6647 - val_accuracy: 0.7596\n",
      "Epoch 5/20\n",
      "72/72 [==============================] - 12s 170ms/step - loss: 0.5998 - accuracy: 0.7591 - val_loss: 0.6068 - val_accuracy: 0.7753\n",
      "Epoch 6/20\n",
      "72/72 [==============================] - 12s 160ms/step - loss: 0.6045 - accuracy: 0.7563 - val_loss: 0.6025 - val_accuracy: 0.7875\n",
      "Epoch 7/20\n",
      "72/72 [==============================] - 11s 159ms/step - loss: 0.5516 - accuracy: 0.7949 - val_loss: 0.5664 - val_accuracy: 0.7944\n",
      "Epoch 8/20\n",
      "72/72 [==============================] - 12s 167ms/step - loss: 0.5310 - accuracy: 0.7922 - val_loss: 0.6127 - val_accuracy: 0.7857\n",
      "Epoch 9/20\n",
      "72/72 [==============================] - 12s 160ms/step - loss: 0.5607 - accuracy: 0.7786 - val_loss: 0.5782 - val_accuracy: 0.8049\n",
      "Epoch 10/20\n",
      "72/72 [==============================] - 12s 169ms/step - loss: 0.4952 - accuracy: 0.8127 - val_loss: 0.5220 - val_accuracy: 0.8136\n",
      "Epoch 11/20\n",
      "72/72 [==============================] - 12s 161ms/step - loss: 0.5212 - accuracy: 0.7972 - val_loss: 0.4930 - val_accuracy: 0.8310\n",
      "Epoch 12/20\n",
      "72/72 [==============================] - 12s 166ms/step - loss: 0.5081 - accuracy: 0.8139 - val_loss: 0.5387 - val_accuracy: 0.8118\n",
      "Epoch 13/20\n",
      "72/72 [==============================] - 12s 167ms/step - loss: 0.5394 - accuracy: 0.7865 - val_loss: 0.5319 - val_accuracy: 0.8171\n",
      "Epoch 14/20\n",
      "72/72 [==============================] - 11s 159ms/step - loss: 0.4961 - accuracy: 0.8004 - val_loss: 0.4958 - val_accuracy: 0.8293\n",
      "Epoch 15/20\n",
      "72/72 [==============================] - 12s 162ms/step - loss: 0.4984 - accuracy: 0.8046 - val_loss: 0.5503 - val_accuracy: 0.8014\n",
      "Epoch 16/20\n",
      "72/72 [==============================] - 12s 168ms/step - loss: 0.5098 - accuracy: 0.7852 - val_loss: 0.5080 - val_accuracy: 0.8275\n",
      "Epoch 17/20\n",
      "72/72 [==============================] - 12s 160ms/step - loss: 0.4724 - accuracy: 0.8318 - val_loss: 0.4783 - val_accuracy: 0.8415\n",
      "Epoch 18/20\n",
      "72/72 [==============================] - 12s 163ms/step - loss: 0.4680 - accuracy: 0.8085 - val_loss: 0.4982 - val_accuracy: 0.8275\n",
      "Epoch 19/20\n",
      "72/72 [==============================] - 12s 167ms/step - loss: 0.5037 - accuracy: 0.7859 - val_loss: 0.4765 - val_accuracy: 0.8449\n",
      "Epoch 20/20\n",
      "72/72 [==============================] - 13s 173ms/step - loss: 0.4820 - accuracy: 0.8062 - val_loss: 0.5974 - val_accuracy: 0.7909\n"
     ]
    }
   ],
   "source": [
    "history1 = model3.fit(data_aug.flow(X_train, y_train, batch_size=32), validation_data=(X_test, y_test), epochs=20,callbacks=[early_stopping])\n",
    "model3.save(\"model_2_vgg.h5\")\n",
    "model3.save_weights('mine_model_weights_1.h5')"
   ]
  },
  {
   "cell_type": "code",
   "execution_count": 17,
   "id": "cbd72418",
   "metadata": {
    "execution": {
     "iopub.execute_input": "2022-07-21T01:41:22.566100Z",
     "iopub.status.busy": "2022-07-21T01:41:22.565184Z",
     "iopub.status.idle": "2022-07-21T01:41:23.391502Z",
     "shell.execute_reply": "2022-07-21T01:41:23.392128Z",
     "shell.execute_reply.started": "2022-07-21T01:33:52.814396Z"
    },
    "papermill": {
     "duration": 1.231085,
     "end_time": "2022-07-21T01:41:23.392361",
     "exception": false,
     "start_time": "2022-07-21T01:41:22.161276",
     "status": "completed"
    },
    "tags": []
   },
   "outputs": [
    {
     "name": "stdout",
     "output_type": "stream",
     "text": [
      "              precision    recall  f1-score   support\n",
      "\n",
      "           0       0.71      0.88      0.78        81\n",
      "           1       0.77      0.99      0.86       157\n",
      "           2       0.89      0.54      0.67       170\n",
      "           3       0.80      0.82      0.81       166\n",
      "\n",
      "    accuracy                           0.79       574\n",
      "   macro avg       0.79      0.81      0.78       574\n",
      "weighted avg       0.81      0.79      0.78       574\n",
      "\n"
     ]
    }
   ],
   "source": [
    "y_pred=model3.predict(X_test)\n",
    "\n",
    "''' retreiving max val from predicted values '''\n",
    "pred = np.argmax(y_pred,axis=1)\n",
    "\n",
    "''' retreiving max val from actual values '''\n",
    "ground = np.argmax(y_test,axis=1)\n",
    "\n",
    "''' classificaion report '''\n",
    "print(classification_report(ground,pred))"
   ]
  },
  {
   "cell_type": "code",
   "execution_count": 18,
   "id": "554259b9",
   "metadata": {
    "execution": {
     "iopub.execute_input": "2022-07-21T01:41:24.196819Z",
     "iopub.status.busy": "2022-07-21T01:41:24.196270Z",
     "iopub.status.idle": "2022-07-21T01:41:24.438648Z",
     "shell.execute_reply": "2022-07-21T01:41:24.439211Z",
     "shell.execute_reply.started": "2022-07-21T01:33:53.649872Z"
    },
    "papermill": {
     "duration": 0.64891,
     "end_time": "2022-07-21T01:41:24.439376",
     "exception": false,
     "start_time": "2022-07-21T01:41:23.790466",
     "status": "completed"
    },
    "tags": []
   },
   "outputs": [
    {
     "data": {
      "image/png": "[encoded data removed]",
      "text/plain": [
       "<Figure size 432x288 with 1 Axes>"
      ]
     },
     "metadata": {
      "needs_background": "light"
     },
     "output_type": "display_data"
    }
   ],
   "source": [
    "''' predicion on new data '''\n",
    "\n",
    "''' loading an image '''\n",
    "img = load_img(\"../input/brain-tumor-classification-mri/Testing/no_tumor/image(13).jpg\",target_size=(150,150))\n",
    "plt.imshow(img)\n",
    "''' converting img to array '''\n",
    "img = img_to_array(img) \n",
    "\n",
    "''' scaling '''\n",
    "img = img / 255.0\n",
    "\n",
    "''' expanding dimensions '''\n",
    "img = np.expand_dims(img, axis=0)"
   ]
  },
  {
   "cell_type": "code",
   "execution_count": 19,
   "id": "b24435b2",
   "metadata": {
    "execution": {
     "iopub.execute_input": "2022-07-21T01:41:25.287651Z",
     "iopub.status.busy": "2022-07-21T01:41:25.286866Z",
     "iopub.status.idle": "2022-07-21T01:41:25.512338Z",
     "shell.execute_reply": "2022-07-21T01:41:25.512909Z",
     "shell.execute_reply.started": "2022-07-21T01:33:53.895369Z"
    },
    "papermill": {
     "duration": 0.674245,
     "end_time": "2022-07-21T01:41:25.513104",
     "exception": false,
     "start_time": "2022-07-21T01:41:24.838859",
     "status": "completed"
    },
    "tags": []
   },
   "outputs": [
    {
     "name": "stdout",
     "output_type": "stream",
     "text": [
      "Prediction is no_tumor.\n"
     ]
    }
   ],
   "source": [
    "lbl_encoding = {0:'no_tumor', 1:'pituitary_tumor', 2:'meningioma_tumor', 3:'glioma_tumor'}\n",
    "\n",
    "def map_label(val):\n",
    "    return lbl_encoding[val]\n",
    "\n",
    "''' predicion '''\n",
    "pred = model3.predict(img)\n",
    "\n",
    "''' retreiving max val from predited values'''\n",
    "val = np.argmax(pred)\n",
    "map_val  = map_label(val)\n",
    "\n",
    "print(\"Prediction is {}.\".format(map_val))"
   ]
  }
 ],
 "metadata": {
  "kernelspec": {
   "display_name": "Python 3",
   "language": "python",
   "name": "python3"
  },
  "language_info": {
   "codemirror_mode": {
    "name": "ipython",
    "version": 3
   },
   "file_extension": ".py",
   "mimetype": "text/x-python",
   "name": "python",
   "nbconvert_exporter": "python",
   "pygments_lexer": "ipython3",
   "version": "3.7.10"
  },
  "papermill": {
   "default_parameters": {},
   "duration": 293.810106,
   "end_time": "2022-07-21T01:41:29.265537",
   "environment_variables": {},
   "exception": null,
   "input_path": "__notebook__.ipynb",
   "output_path": "__notebook__.ipynb",
   "parameters": {},
   "start_time": "2022-07-21T01:36:35.455431",
   "version": "2.3.3"
  }
 },
 "nbformat": 4,
 "nbformat_minor": 5
}
